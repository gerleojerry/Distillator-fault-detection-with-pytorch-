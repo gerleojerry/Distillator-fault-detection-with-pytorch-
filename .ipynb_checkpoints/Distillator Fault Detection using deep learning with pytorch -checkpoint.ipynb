{
 "cells": [
  {
   "cell_type": "markdown",
   "metadata": {},
   "source": [
    "**Detection of fault in distillator using deep learning with pytorch**"
   ]
  },
  {
   "cell_type": "code",
   "execution_count": 1,
   "metadata": {},
   "outputs": [],
   "source": [
    "import pandas as pd\n",
    "import numpy as np\n",
    "import matplotlib.pyplot as plt\n",
    "import torch \n",
    "import torch.nn as nn\n",
    "import torch.nn.functional as F\n",
    "from sklearn.model_selection import train_test_split\n",
    "from sklearn.preprocessing import StandardScaler"
   ]
  },
  {
   "cell_type": "code",
   "execution_count": 2,
   "metadata": {},
   "outputs": [
    {
     "data": {
      "text/html": [
       "<div>\n",
       "<style scoped>\n",
       "    .dataframe tbody tr th:only-of-type {\n",
       "        vertical-align: middle;\n",
       "    }\n",
       "\n",
       "    .dataframe tbody tr th {\n",
       "        vertical-align: top;\n",
       "    }\n",
       "\n",
       "    .dataframe thead th {\n",
       "        text-align: right;\n",
       "    }\n",
       "</style>\n",
       "<table border=\"1\" class=\"dataframe\">\n",
       "  <thead>\n",
       "    <tr style=\"text-align: right;\">\n",
       "      <th></th>\n",
       "      <th>Datetime</th>\n",
       "      <th>AHU: Supply Air Temperature</th>\n",
       "      <th>AHU: Supply Air Temperature Set Point</th>\n",
       "      <th>AHU: Outdoor Air Temperature</th>\n",
       "      <th>AHU: Mixed Air Temperature</th>\n",
       "      <th>AHU: Return Air Temperature</th>\n",
       "      <th>AHU: Supply Air Fan Status</th>\n",
       "      <th>AHU: Return Air Fan Status</th>\n",
       "      <th>AHU: Supply Air Fan Speed Control Signal</th>\n",
       "      <th>AHU: Return Air Fan Speed Control Signal</th>\n",
       "      <th>AHU: Outdoor Air Damper Control Signal</th>\n",
       "      <th>AHU: Return Air Damper Control Signal</th>\n",
       "      <th>AHU: Cooling Coil Valve Control Signal</th>\n",
       "      <th>AHU: Heating Coil Valve Control Signal</th>\n",
       "      <th>AHU: Supply Air Duct Static Pressure Set Point</th>\n",
       "      <th>AHU: Supply Air Duct Static Pressure</th>\n",
       "      <th>Occupancy Mode Indicator</th>\n",
       "      <th>Fault Detection Ground Truth</th>\n",
       "    </tr>\n",
       "  </thead>\n",
       "  <tbody>\n",
       "    <tr>\n",
       "      <th>0</th>\n",
       "      <td>1/30/2017 0:00</td>\n",
       "      <td>68.00</td>\n",
       "      <td>55.04</td>\n",
       "      <td>32.00</td>\n",
       "      <td>68.00</td>\n",
       "      <td>75.20</td>\n",
       "      <td>0</td>\n",
       "      <td>0</td>\n",
       "      <td>0.0</td>\n",
       "      <td>0.0</td>\n",
       "      <td>0.0</td>\n",
       "      <td>0.0</td>\n",
       "      <td>0.0</td>\n",
       "      <td>0</td>\n",
       "      <td>0.04</td>\n",
       "      <td>0.0</td>\n",
       "      <td>0</td>\n",
       "      <td>0</td>\n",
       "    </tr>\n",
       "    <tr>\n",
       "      <th>1</th>\n",
       "      <td>1/30/2017 0:01</td>\n",
       "      <td>67.99</td>\n",
       "      <td>55.04</td>\n",
       "      <td>32.00</td>\n",
       "      <td>66.71</td>\n",
       "      <td>75.20</td>\n",
       "      <td>0</td>\n",
       "      <td>0</td>\n",
       "      <td>0.0</td>\n",
       "      <td>0.0</td>\n",
       "      <td>0.0</td>\n",
       "      <td>0.0</td>\n",
       "      <td>0.0</td>\n",
       "      <td>0</td>\n",
       "      <td>0.04</td>\n",
       "      <td>0.0</td>\n",
       "      <td>0</td>\n",
       "      <td>0</td>\n",
       "    </tr>\n",
       "    <tr>\n",
       "      <th>2</th>\n",
       "      <td>1/30/2017 0:02</td>\n",
       "      <td>67.99</td>\n",
       "      <td>55.04</td>\n",
       "      <td>-5.93</td>\n",
       "      <td>66.71</td>\n",
       "      <td>74.45</td>\n",
       "      <td>0</td>\n",
       "      <td>0</td>\n",
       "      <td>0.0</td>\n",
       "      <td>0.0</td>\n",
       "      <td>0.0</td>\n",
       "      <td>0.0</td>\n",
       "      <td>0.0</td>\n",
       "      <td>0</td>\n",
       "      <td>0.04</td>\n",
       "      <td>0.0</td>\n",
       "      <td>0</td>\n",
       "      <td>0</td>\n",
       "    </tr>\n",
       "  </tbody>\n",
       "</table>\n",
       "</div>"
      ],
      "text/plain": [
       "         Datetime  AHU: Supply Air Temperature  \\\n",
       "0  1/30/2017 0:00                        68.00   \n",
       "1  1/30/2017 0:01                        67.99   \n",
       "2  1/30/2017 0:02                        67.99   \n",
       "\n",
       "   AHU: Supply Air Temperature Set Point  AHU: Outdoor Air Temperature  \\\n",
       "0                                  55.04                         32.00   \n",
       "1                                  55.04                         32.00   \n",
       "2                                  55.04                         -5.93   \n",
       "\n",
       "   AHU: Mixed Air Temperature  AHU: Return Air Temperature  \\\n",
       "0                       68.00                        75.20   \n",
       "1                       66.71                        75.20   \n",
       "2                       66.71                        74.45   \n",
       "\n",
       "   AHU: Supply Air Fan Status  AHU: Return Air Fan Status  \\\n",
       "0                           0                           0   \n",
       "1                           0                           0   \n",
       "2                           0                           0   \n",
       "\n",
       "   AHU: Supply Air Fan Speed Control Signal  \\\n",
       "0                                       0.0   \n",
       "1                                       0.0   \n",
       "2                                       0.0   \n",
       "\n",
       "   AHU: Return Air Fan Speed Control Signal  \\\n",
       "0                                       0.0   \n",
       "1                                       0.0   \n",
       "2                                       0.0   \n",
       "\n",
       "   AHU: Outdoor Air Damper Control Signal    \\\n",
       "0                                       0.0   \n",
       "1                                       0.0   \n",
       "2                                       0.0   \n",
       "\n",
       "   AHU: Return Air Damper Control Signal  \\\n",
       "0                                    0.0   \n",
       "1                                    0.0   \n",
       "2                                    0.0   \n",
       "\n",
       "   AHU: Cooling Coil Valve Control Signal  \\\n",
       "0                                     0.0   \n",
       "1                                     0.0   \n",
       "2                                     0.0   \n",
       "\n",
       "   AHU: Heating Coil Valve Control Signal  \\\n",
       "0                                       0   \n",
       "1                                       0   \n",
       "2                                       0   \n",
       "\n",
       "   AHU: Supply Air Duct Static Pressure Set Point  \\\n",
       "0                                            0.04   \n",
       "1                                            0.04   \n",
       "2                                            0.04   \n",
       "\n",
       "   AHU: Supply Air Duct Static Pressure  Occupancy Mode Indicator  \\\n",
       "0                                   0.0                         0   \n",
       "1                                   0.0                         0   \n",
       "2                                   0.0                         0   \n",
       "\n",
       "   Fault Detection Ground Truth  \n",
       "0                             0  \n",
       "1                             0  \n",
       "2                             0  "
      ]
     },
     "execution_count": 2,
     "metadata": {},
     "output_type": "execute_result"
    }
   ],
   "source": [
    "data = pd.read_csv('MZVAV-1.csv')\n",
    "data.head(3)"
   ]
  },
  {
   "cell_type": "markdown",
   "metadata": {},
   "source": [
    "This is the shape of the data"
   ]
  },
  {
   "cell_type": "code",
   "execution_count": 3,
   "metadata": {},
   "outputs": [
    {
     "data": {
      "text/plain": [
       "(272160, 18)"
      ]
     },
     "execution_count": 3,
     "metadata": {},
     "output_type": "execute_result"
    }
   ],
   "source": [
    "data.shape"
   ]
  },
  {
   "cell_type": "markdown",
   "metadata": {},
   "source": [
    "This is to check if there is any duplicate  values"
   ]
  },
  {
   "cell_type": "code",
   "execution_count": 4,
   "metadata": {},
   "outputs": [
    {
     "data": {
      "text/plain": [
       "0"
      ]
     },
     "execution_count": 4,
     "metadata": {},
     "output_type": "execute_result"
    }
   ],
   "source": [
    "data.duplicated().sum()"
   ]
  },
  {
   "cell_type": "markdown",
   "metadata": {},
   "source": [
    " And there is none\n"
   ]
  },
  {
   "cell_type": "markdown",
   "metadata": {},
   "source": [
    "Checking for null values present in the data"
   ]
  },
  {
   "cell_type": "code",
   "execution_count": 5,
   "metadata": {},
   "outputs": [
    {
     "data": {
      "text/plain": [
       "Datetime                                          0\n",
       "AHU: Supply Air Temperature                       0\n",
       "AHU: Supply Air Temperature Set Point             0\n",
       "AHU: Outdoor Air Temperature                      0\n",
       "AHU: Mixed Air Temperature                        0\n",
       "AHU: Return Air Temperature                       0\n",
       "AHU: Supply Air Fan Status                        0\n",
       "AHU: Return Air Fan Status                        0\n",
       "AHU: Supply Air Fan Speed Control Signal          0\n",
       "AHU: Return Air Fan Speed Control Signal          0\n",
       "AHU: Outdoor Air Damper Control Signal            0\n",
       "AHU: Return Air Damper Control Signal             0\n",
       "AHU: Cooling Coil Valve Control Signal            0\n",
       "AHU: Heating Coil Valve Control Signal            0\n",
       "AHU: Supply Air Duct Static Pressure Set Point    0\n",
       "AHU: Supply Air Duct Static Pressure              0\n",
       "Occupancy Mode Indicator                          0\n",
       "Fault Detection Ground Truth                      0\n",
       "dtype: int64"
      ]
     },
     "execution_count": 5,
     "metadata": {},
     "output_type": "execute_result"
    }
   ],
   "source": [
    "data.isna().sum()"
   ]
  },
  {
   "cell_type": "markdown",
   "metadata": {},
   "source": [
    "There are no null values present in the data"
   ]
  },
  {
   "cell_type": "markdown",
   "metadata": {},
   "source": [
    "Checking the descriptive statistics of the data"
   ]
  },
  {
   "cell_type": "code",
   "execution_count": 6,
   "metadata": {},
   "outputs": [
    {
     "data": {
      "text/html": [
       "<div>\n",
       "<style scoped>\n",
       "    .dataframe tbody tr th:only-of-type {\n",
       "        vertical-align: middle;\n",
       "    }\n",
       "\n",
       "    .dataframe tbody tr th {\n",
       "        vertical-align: top;\n",
       "    }\n",
       "\n",
       "    .dataframe thead th {\n",
       "        text-align: right;\n",
       "    }\n",
       "</style>\n",
       "<table border=\"1\" class=\"dataframe\">\n",
       "  <thead>\n",
       "    <tr style=\"text-align: right;\">\n",
       "      <th></th>\n",
       "      <th>AHU: Supply Air Temperature</th>\n",
       "      <th>AHU: Supply Air Temperature Set Point</th>\n",
       "      <th>AHU: Outdoor Air Temperature</th>\n",
       "      <th>AHU: Mixed Air Temperature</th>\n",
       "      <th>AHU: Return Air Temperature</th>\n",
       "      <th>AHU: Supply Air Fan Status</th>\n",
       "      <th>AHU: Return Air Fan Status</th>\n",
       "      <th>AHU: Supply Air Fan Speed Control Signal</th>\n",
       "      <th>AHU: Return Air Fan Speed Control Signal</th>\n",
       "      <th>AHU: Outdoor Air Damper Control Signal</th>\n",
       "      <th>AHU: Return Air Damper Control Signal</th>\n",
       "      <th>AHU: Cooling Coil Valve Control Signal</th>\n",
       "      <th>AHU: Heating Coil Valve Control Signal</th>\n",
       "      <th>AHU: Supply Air Duct Static Pressure Set Point</th>\n",
       "      <th>AHU: Supply Air Duct Static Pressure</th>\n",
       "      <th>Occupancy Mode Indicator</th>\n",
       "      <th>Fault Detection Ground Truth</th>\n",
       "    </tr>\n",
       "  </thead>\n",
       "  <tbody>\n",
       "    <tr>\n",
       "      <th>count</th>\n",
       "      <td>272160.000000</td>\n",
       "      <td>2.721600e+05</td>\n",
       "      <td>272160.000000</td>\n",
       "      <td>272160.000000</td>\n",
       "      <td>272160.000000</td>\n",
       "      <td>272160.000000</td>\n",
       "      <td>272160.000000</td>\n",
       "      <td>272160.000000</td>\n",
       "      <td>272160.000000</td>\n",
       "      <td>272160.000000</td>\n",
       "      <td>272160.000000</td>\n",
       "      <td>272160.000000</td>\n",
       "      <td>272160.000000</td>\n",
       "      <td>2.721600e+05</td>\n",
       "      <td>272160.000000</td>\n",
       "      <td>272160.000000</td>\n",
       "      <td>272160.000000</td>\n",
       "    </tr>\n",
       "    <tr>\n",
       "      <th>mean</th>\n",
       "      <td>53.762030</td>\n",
       "      <td>5.504000e+01</td>\n",
       "      <td>48.357590</td>\n",
       "      <td>65.000186</td>\n",
       "      <td>71.453754</td>\n",
       "      <td>0.670242</td>\n",
       "      <td>0.670242</td>\n",
       "      <td>0.480342</td>\n",
       "      <td>0.480342</td>\n",
       "      <td>0.213219</td>\n",
       "      <td>0.000009</td>\n",
       "      <td>0.043273</td>\n",
       "      <td>0.000077</td>\n",
       "      <td>4.000000e-02</td>\n",
       "      <td>0.034261</td>\n",
       "      <td>0.487654</td>\n",
       "      <td>0.857143</td>\n",
       "    </tr>\n",
       "    <tr>\n",
       "      <th>std</th>\n",
       "      <td>2.545891</td>\n",
       "      <td>3.741583e-10</td>\n",
       "      <td>20.154449</td>\n",
       "      <td>7.409942</td>\n",
       "      <td>3.702466</td>\n",
       "      <td>0.470126</td>\n",
       "      <td>0.470126</td>\n",
       "      <td>0.353275</td>\n",
       "      <td>0.353275</td>\n",
       "      <td>0.325107</td>\n",
       "      <td>0.004696</td>\n",
       "      <td>0.083905</td>\n",
       "      <td>0.008784</td>\n",
       "      <td>1.908546e-13</td>\n",
       "      <td>0.032849</td>\n",
       "      <td>0.499848</td>\n",
       "      <td>0.349928</td>\n",
       "    </tr>\n",
       "    <tr>\n",
       "      <th>min</th>\n",
       "      <td>44.950000</td>\n",
       "      <td>5.504000e+01</td>\n",
       "      <td>-14.260000</td>\n",
       "      <td>22.610000</td>\n",
       "      <td>54.470000</td>\n",
       "      <td>0.000000</td>\n",
       "      <td>0.000000</td>\n",
       "      <td>0.000000</td>\n",
       "      <td>0.000000</td>\n",
       "      <td>0.000000</td>\n",
       "      <td>0.000000</td>\n",
       "      <td>0.000000</td>\n",
       "      <td>0.000000</td>\n",
       "      <td>4.000000e-02</td>\n",
       "      <td>-0.020000</td>\n",
       "      <td>0.000000</td>\n",
       "      <td>0.000000</td>\n",
       "    </tr>\n",
       "    <tr>\n",
       "      <th>25%</th>\n",
       "      <td>52.000000</td>\n",
       "      <td>5.504000e+01</td>\n",
       "      <td>36.320000</td>\n",
       "      <td>57.030000</td>\n",
       "      <td>70.010000</td>\n",
       "      <td>0.000000</td>\n",
       "      <td>0.000000</td>\n",
       "      <td>0.000000</td>\n",
       "      <td>0.000000</td>\n",
       "      <td>0.000000</td>\n",
       "      <td>0.000000</td>\n",
       "      <td>0.010000</td>\n",
       "      <td>0.000000</td>\n",
       "      <td>4.000000e-02</td>\n",
       "      <td>0.000000</td>\n",
       "      <td>0.000000</td>\n",
       "      <td>1.000000</td>\n",
       "    </tr>\n",
       "    <tr>\n",
       "      <th>50%</th>\n",
       "      <td>54.070000</td>\n",
       "      <td>5.504000e+01</td>\n",
       "      <td>52.340000</td>\n",
       "      <td>65.570000</td>\n",
       "      <td>72.010000</td>\n",
       "      <td>1.000000</td>\n",
       "      <td>1.000000</td>\n",
       "      <td>0.640000</td>\n",
       "      <td>0.640000</td>\n",
       "      <td>0.000000</td>\n",
       "      <td>0.000000</td>\n",
       "      <td>0.020000</td>\n",
       "      <td>0.000000</td>\n",
       "      <td>4.000000e-02</td>\n",
       "      <td>0.040000</td>\n",
       "      <td>0.000000</td>\n",
       "      <td>1.000000</td>\n",
       "    </tr>\n",
       "    <tr>\n",
       "      <th>75%</th>\n",
       "      <td>55.040000</td>\n",
       "      <td>5.504000e+01</td>\n",
       "      <td>62.610000</td>\n",
       "      <td>72.020000</td>\n",
       "      <td>74.260000</td>\n",
       "      <td>1.000000</td>\n",
       "      <td>1.000000</td>\n",
       "      <td>0.670000</td>\n",
       "      <td>0.670000</td>\n",
       "      <td>0.240000</td>\n",
       "      <td>0.000000</td>\n",
       "      <td>0.040000</td>\n",
       "      <td>0.000000</td>\n",
       "      <td>4.000000e-02</td>\n",
       "      <td>0.040000</td>\n",
       "      <td>1.000000</td>\n",
       "      <td>1.000000</td>\n",
       "    </tr>\n",
       "    <tr>\n",
       "      <th>max</th>\n",
       "      <td>72.030000</td>\n",
       "      <td>5.504000e+01</td>\n",
       "      <td>90.140000</td>\n",
       "      <td>78.720000</td>\n",
       "      <td>87.870000</td>\n",
       "      <td>1.000000</td>\n",
       "      <td>1.000000</td>\n",
       "      <td>1.000000</td>\n",
       "      <td>1.000000</td>\n",
       "      <td>1.000000</td>\n",
       "      <td>2.450000</td>\n",
       "      <td>0.600000</td>\n",
       "      <td>1.000000</td>\n",
       "      <td>4.000000e-02</td>\n",
       "      <td>0.120000</td>\n",
       "      <td>1.000000</td>\n",
       "      <td>1.000000</td>\n",
       "    </tr>\n",
       "  </tbody>\n",
       "</table>\n",
       "</div>"
      ],
      "text/plain": [
       "       AHU: Supply Air Temperature  AHU: Supply Air Temperature Set Point  \\\n",
       "count                272160.000000                           2.721600e+05   \n",
       "mean                     53.762030                           5.504000e+01   \n",
       "std                       2.545891                           3.741583e-10   \n",
       "min                      44.950000                           5.504000e+01   \n",
       "25%                      52.000000                           5.504000e+01   \n",
       "50%                      54.070000                           5.504000e+01   \n",
       "75%                      55.040000                           5.504000e+01   \n",
       "max                      72.030000                           5.504000e+01   \n",
       "\n",
       "       AHU: Outdoor Air Temperature  AHU: Mixed Air Temperature  \\\n",
       "count                 272160.000000               272160.000000   \n",
       "mean                      48.357590                   65.000186   \n",
       "std                       20.154449                    7.409942   \n",
       "min                      -14.260000                   22.610000   \n",
       "25%                       36.320000                   57.030000   \n",
       "50%                       52.340000                   65.570000   \n",
       "75%                       62.610000                   72.020000   \n",
       "max                       90.140000                   78.720000   \n",
       "\n",
       "       AHU: Return Air Temperature  AHU: Supply Air Fan Status  \\\n",
       "count                272160.000000               272160.000000   \n",
       "mean                     71.453754                    0.670242   \n",
       "std                       3.702466                    0.470126   \n",
       "min                      54.470000                    0.000000   \n",
       "25%                      70.010000                    0.000000   \n",
       "50%                      72.010000                    1.000000   \n",
       "75%                      74.260000                    1.000000   \n",
       "max                      87.870000                    1.000000   \n",
       "\n",
       "       AHU: Return Air Fan Status  AHU: Supply Air Fan Speed Control Signal  \\\n",
       "count               272160.000000                             272160.000000   \n",
       "mean                     0.670242                                  0.480342   \n",
       "std                      0.470126                                  0.353275   \n",
       "min                      0.000000                                  0.000000   \n",
       "25%                      0.000000                                  0.000000   \n",
       "50%                      1.000000                                  0.640000   \n",
       "75%                      1.000000                                  0.670000   \n",
       "max                      1.000000                                  1.000000   \n",
       "\n",
       "       AHU: Return Air Fan Speed Control Signal  \\\n",
       "count                             272160.000000   \n",
       "mean                                   0.480342   \n",
       "std                                    0.353275   \n",
       "min                                    0.000000   \n",
       "25%                                    0.000000   \n",
       "50%                                    0.640000   \n",
       "75%                                    0.670000   \n",
       "max                                    1.000000   \n",
       "\n",
       "       AHU: Outdoor Air Damper Control Signal    \\\n",
       "count                             272160.000000   \n",
       "mean                                   0.213219   \n",
       "std                                    0.325107   \n",
       "min                                    0.000000   \n",
       "25%                                    0.000000   \n",
       "50%                                    0.000000   \n",
       "75%                                    0.240000   \n",
       "max                                    1.000000   \n",
       "\n",
       "       AHU: Return Air Damper Control Signal  \\\n",
       "count                          272160.000000   \n",
       "mean                                0.000009   \n",
       "std                                 0.004696   \n",
       "min                                 0.000000   \n",
       "25%                                 0.000000   \n",
       "50%                                 0.000000   \n",
       "75%                                 0.000000   \n",
       "max                                 2.450000   \n",
       "\n",
       "       AHU: Cooling Coil Valve Control Signal  \\\n",
       "count                           272160.000000   \n",
       "mean                                 0.043273   \n",
       "std                                  0.083905   \n",
       "min                                  0.000000   \n",
       "25%                                  0.010000   \n",
       "50%                                  0.020000   \n",
       "75%                                  0.040000   \n",
       "max                                  0.600000   \n",
       "\n",
       "       AHU: Heating Coil Valve Control Signal  \\\n",
       "count                           272160.000000   \n",
       "mean                                 0.000077   \n",
       "std                                  0.008784   \n",
       "min                                  0.000000   \n",
       "25%                                  0.000000   \n",
       "50%                                  0.000000   \n",
       "75%                                  0.000000   \n",
       "max                                  1.000000   \n",
       "\n",
       "       AHU: Supply Air Duct Static Pressure Set Point  \\\n",
       "count                                    2.721600e+05   \n",
       "mean                                     4.000000e-02   \n",
       "std                                      1.908546e-13   \n",
       "min                                      4.000000e-02   \n",
       "25%                                      4.000000e-02   \n",
       "50%                                      4.000000e-02   \n",
       "75%                                      4.000000e-02   \n",
       "max                                      4.000000e-02   \n",
       "\n",
       "       AHU: Supply Air Duct Static Pressure  Occupancy Mode Indicator  \\\n",
       "count                         272160.000000             272160.000000   \n",
       "mean                               0.034261                  0.487654   \n",
       "std                                0.032849                  0.499848   \n",
       "min                               -0.020000                  0.000000   \n",
       "25%                                0.000000                  0.000000   \n",
       "50%                                0.040000                  0.000000   \n",
       "75%                                0.040000                  1.000000   \n",
       "max                                0.120000                  1.000000   \n",
       "\n",
       "       Fault Detection Ground Truth  \n",
       "count                 272160.000000  \n",
       "mean                       0.857143  \n",
       "std                        0.349928  \n",
       "min                        0.000000  \n",
       "25%                        1.000000  \n",
       "50%                        1.000000  \n",
       "75%                        1.000000  \n",
       "max                        1.000000  "
      ]
     },
     "execution_count": 6,
     "metadata": {},
     "output_type": "execute_result"
    }
   ],
   "source": [
    "data.describe()"
   ]
  },
  {
   "cell_type": "markdown",
   "metadata": {},
   "source": [
    "Checking the info of the data"
   ]
  },
  {
   "cell_type": "code",
   "execution_count": 7,
   "metadata": {},
   "outputs": [
    {
     "name": "stdout",
     "output_type": "stream",
     "text": [
      "<class 'pandas.core.frame.DataFrame'>\n",
      "RangeIndex: 272160 entries, 0 to 272159\n",
      "Data columns (total 18 columns):\n",
      " #   Column                                          Non-Null Count   Dtype  \n",
      "---  ------                                          --------------   -----  \n",
      " 0   Datetime                                        272160 non-null  object \n",
      " 1   AHU: Supply Air Temperature                     272160 non-null  float64\n",
      " 2   AHU: Supply Air Temperature Set Point           272160 non-null  float64\n",
      " 3   AHU: Outdoor Air Temperature                    272160 non-null  float64\n",
      " 4   AHU: Mixed Air Temperature                      272160 non-null  float64\n",
      " 5   AHU: Return Air Temperature                     272160 non-null  float64\n",
      " 6   AHU: Supply Air Fan Status                      272160 non-null  int64  \n",
      " 7   AHU: Return Air Fan Status                      272160 non-null  int64  \n",
      " 8   AHU: Supply Air Fan Speed Control Signal        272160 non-null  float64\n",
      " 9   AHU: Return Air Fan Speed Control Signal        272160 non-null  float64\n",
      " 10  AHU: Outdoor Air Damper Control Signal          272160 non-null  float64\n",
      " 11  AHU: Return Air Damper Control Signal           272160 non-null  float64\n",
      " 12  AHU: Cooling Coil Valve Control Signal          272160 non-null  float64\n",
      " 13  AHU: Heating Coil Valve Control Signal          272160 non-null  int64  \n",
      " 14  AHU: Supply Air Duct Static Pressure Set Point  272160 non-null  float64\n",
      " 15  AHU: Supply Air Duct Static Pressure            272160 non-null  float64\n",
      " 16  Occupancy Mode Indicator                        272160 non-null  int64  \n",
      " 17  Fault Detection Ground Truth                    272160 non-null  int64  \n",
      "dtypes: float64(12), int64(5), object(1)\n",
      "memory usage: 37.4+ MB\n"
     ]
    }
   ],
   "source": [
    "data.info()"
   ]
  },
  {
   "cell_type": "markdown",
   "metadata": {},
   "source": [
    "From the above, it is observed that there is only one feature that is categorical, the datetime feature"
   ]
  },
  {
   "cell_type": "markdown",
   "metadata": {},
   "source": [
    "dropping the datetime feature."
   ]
  },
  {
   "cell_type": "code",
   "execution_count": 8,
   "metadata": {},
   "outputs": [],
   "source": [
    "data = data.drop(columns = 'Datetime')"
   ]
  },
  {
   "cell_type": "markdown",
   "metadata": {},
   "source": [
    "Checking for the distribution for the dependent variable"
   ]
  },
  {
   "cell_type": "code",
   "execution_count": 9,
   "metadata": {},
   "outputs": [
    {
     "data": {
      "text/plain": [
       "1    233280\n",
       "0     38880\n",
       "Name: Fault Detection Ground Truth, dtype: int64"
      ]
     },
     "execution_count": 9,
     "metadata": {},
     "output_type": "execute_result"
    }
   ],
   "source": [
    "data['Fault Detection Ground Truth'].value_counts()"
   ]
  },
  {
   "cell_type": "code",
   "execution_count": 10,
   "metadata": {},
   "outputs": [
    {
     "data": {
      "image/png": "[encoded data removed]",
      "text/plain": [
       "<Figure size 288x288 with 1 Axes>"
      ]
     },
     "metadata": {
      "needs_background": "light"
     },
     "output_type": "display_data"
    }
   ],
   "source": [
    "plt.figure(figsize=(4,4))\n",
    "data['Fault Detection Ground Truth'].value_counts().plot(kind='bar')\n",
    "plt.show()"
   ]
  },
  {
   "cell_type": "markdown",
   "metadata": {},
   "source": [
    "From the above, it is observed that the data is biased, so we have to look for a way to balance the data"
   ]
  },
  {
   "cell_type": "code",
   "execution_count": 11,
   "metadata": {},
   "outputs": [],
   "source": [
    "ones = data[data['Fault Detection Ground Truth'] == 1]\n",
    "zeros = data[data['Fault Detection Ground Truth'] == 0]"
   ]
  },
  {
   "cell_type": "markdown",
   "metadata": {},
   "source": [
    "Reducing the size of the ones dataframe"
   ]
  },
  {
   "cell_type": "code",
   "execution_count": 12,
   "metadata": {},
   "outputs": [
    {
     "data": {
      "text/plain": [
       "((233280, 17), (38880, 17), (272160, 17))"
      ]
     },
     "execution_count": 12,
     "metadata": {},
     "output_type": "execute_result"
    }
   ],
   "source": [
    "ones.shape, zeros.shape, data.shape"
   ]
  },
  {
   "cell_type": "code",
   "execution_count": 13,
   "metadata": {},
   "outputs": [],
   "source": [
    "sample_frac = .175"
   ]
  },
  {
   "cell_type": "code",
   "execution_count": 14,
   "metadata": {},
   "outputs": [],
   "source": [
    "ones = ones.sample(frac = sample_frac)"
   ]
  },
  {
   "cell_type": "code",
   "execution_count": 15,
   "metadata": {},
   "outputs": [],
   "source": [
    "df = pd.concat([ones, zeros]).reset_index().sample(frac = 1)"
   ]
  },
  {
   "cell_type": "markdown",
   "metadata": {},
   "source": [
    "The data is now balanced and shuffled."
   ]
  },
  {
   "cell_type": "markdown",
   "metadata": {},
   "source": [
    "Splitting the dataset into dependent, independent, train and test set"
   ]
  },
  {
   "cell_type": "code",
   "execution_count": 36,
   "metadata": {},
   "outputs": [],
   "source": [
    "X = data.drop(columns = 'Fault Detection Ground Truth').values\n",
    "y = data['Fault Detection Ground Truth'].values\n",
    "X_train,X_test,y_train,y_test = train_test_split(X,y, test_size=.3, random_state = 1, stratify = y)"
   ]
  },
  {
   "cell_type": "code",
   "execution_count": 37,
   "metadata": {},
   "outputs": [
    {
     "data": {
      "text/plain": [
       "array([1, 0, 1, ..., 1, 1, 1], dtype=int64)"
      ]
     },
     "execution_count": 37,
     "metadata": {},
     "output_type": "execute_result"
    }
   ],
   "source": []
  },
  {
   "cell_type": "markdown",
   "metadata": {},
   "source": [
    "Confirming the shape of the train and test set"
   ]
  },
  {
   "cell_type": "code",
   "execution_count": 17,
   "metadata": {},
   "outputs": [
    {
     "data": {
      "text/plain": [
       "((190512, 16), (81648, 16), (190512,), (81648,))"
      ]
     },
     "execution_count": 17,
     "metadata": {},
     "output_type": "execute_result"
    }
   ],
   "source": [
    "X_train.shape, X_test.shape, y_train.shape, y_test.shape"
   ]
  },
  {
   "cell_type": "markdown",
   "metadata": {},
   "source": [
    "Scaling the X_train and the X_test using the sklearn standard scaler"
   ]
  },
  {
   "cell_type": "code",
   "execution_count": 18,
   "metadata": {},
   "outputs": [],
   "source": [
    "scaler = StandardScaler()\n",
    "X_train = scaler.fit_transform(X_train)\n",
    "X_test = scaler.fit_transform(X_test)"
   ]
  },
  {
   "cell_type": "markdown",
   "metadata": {},
   "source": [
    "Converting the dataset into tensors "
   ]
  },
  {
   "cell_type": "code",
   "execution_count": 19,
   "metadata": {},
   "outputs": [],
   "source": [
    "X_train = torch.tensor(X_train, requires_grad = True, dtype=torch.float32)\n",
    "y_train = torch.LongTensor(y_train)\n",
    "X_test = torch.tensor(X_test, requires_grad = True, dtype = torch.float32)\n",
    "y_test = torch.LongTensor(y_test)"
   ]
  },
  {
   "cell_type": "markdown",
   "metadata": {},
   "source": [
    "Setting up the hyper parameters "
   ]
  },
  {
   "cell_type": "code",
   "execution_count": 20,
   "metadata": {},
   "outputs": [],
   "source": [
    "epoch = 15\n",
    "learning_rate = 0.001\n",
    "n_features = X_train.shape[1]"
   ]
  },
  {
   "cell_type": "code",
   "execution_count": 31,
   "metadata": {},
   "outputs": [],
   "source": [
    "class Classifier(nn.Module): \n",
    "    def __init__(self):\n",
    "        super().__init__()\n",
    "        self.layer1 = nn.Linear(n_features, 50)\n",
    "        self.layer2 = nn.Linear(50, 1)     \n",
    "        \n",
    "     \n",
    "    def forward(self, x): \n",
    "        x = F.relu(self.layer1(x))\n",
    "        x = torch.sigmoid(self.layer2(x))\n",
    "        return x\n",
    "        "
   ]
  },
  {
   "cell_type": "code",
   "execution_count": 32,
   "metadata": {},
   "outputs": [],
   "source": [
    "model = Classifier()\n",
    "criterion = nn.BCELoss()\n",
    "optimizer = torch.optim.SGD(model.parameters(), lr=learning_rate)\n"
   ]
  },
  {
   "cell_type": "markdown",
   "metadata": {},
   "source": [
    "Running the training loop "
   ]
  },
  {
   "cell_type": "code",
   "execution_count": 34,
   "metadata": {},
   "outputs": [
    {
     "name": "stdout",
     "output_type": "stream",
     "text": [
      "tensor([[0.4584],\n",
      "        [0.3614],\n",
      "        [0.3582],\n",
      "        ...,\n",
      "        [0.4356],\n",
      "        [0.4139],\n",
      "        [0.3687]], grad_fn=<SigmoidBackward0>)\n"
     ]
    },
    {
     "ename": "ValueError",
     "evalue": "Using a target size (torch.Size([190512])) that is different to the input size (torch.Size([190512, 1])) is deprecated. Please ensure they have the same size.",
     "output_type": "error",
     "traceback": [
      "\u001b[1;31m---------------------------------------------------------------------------\u001b[0m",
      "\u001b[1;31mValueError\u001b[0m                                Traceback (most recent call last)",
      "\u001b[1;32m<ipython-input-34-c33d435ddbdc>\u001b[0m in \u001b[0;36m<module>\u001b[1;34m\u001b[0m\n\u001b[0;32m      2\u001b[0m     \u001b[0moutput\u001b[0m \u001b[1;33m=\u001b[0m \u001b[0mmodel\u001b[0m\u001b[1;33m(\u001b[0m\u001b[0mX_train\u001b[0m\u001b[1;33m)\u001b[0m\u001b[1;33m\u001b[0m\u001b[1;33m\u001b[0m\u001b[0m\n\u001b[0;32m      3\u001b[0m     \u001b[0mprint\u001b[0m\u001b[1;33m(\u001b[0m\u001b[0moutput\u001b[0m\u001b[1;33m)\u001b[0m\u001b[1;33m\u001b[0m\u001b[1;33m\u001b[0m\u001b[0m\n\u001b[1;32m----> 4\u001b[1;33m     \u001b[0mloss\u001b[0m \u001b[1;33m=\u001b[0m \u001b[0mcriterion\u001b[0m\u001b[1;33m(\u001b[0m\u001b[0moutput\u001b[0m\u001b[1;33m,\u001b[0m \u001b[0my_train\u001b[0m\u001b[1;33m)\u001b[0m\u001b[1;33m\u001b[0m\u001b[1;33m\u001b[0m\u001b[0m\n\u001b[0m\u001b[0;32m      5\u001b[0m \u001b[1;33m\u001b[0m\u001b[0m\n\u001b[0;32m      6\u001b[0m     \u001b[1;31m#Setting the gradients to zero\u001b[0m\u001b[1;33m\u001b[0m\u001b[1;33m\u001b[0m\u001b[1;33m\u001b[0m\u001b[0m\n",
      "\u001b[1;32m~\\anaconda3\\lib\\site-packages\\torch\\nn\\modules\\module.py\u001b[0m in \u001b[0;36m_call_impl\u001b[1;34m(self, *input, **kwargs)\u001b[0m\n\u001b[0;32m   1108\u001b[0m         if not (self._backward_hooks or self._forward_hooks or self._forward_pre_hooks or _global_backward_hooks\n\u001b[0;32m   1109\u001b[0m                 or _global_forward_hooks or _global_forward_pre_hooks):\n\u001b[1;32m-> 1110\u001b[1;33m             \u001b[1;32mreturn\u001b[0m \u001b[0mforward_call\u001b[0m\u001b[1;33m(\u001b[0m\u001b[1;33m*\u001b[0m\u001b[0minput\u001b[0m\u001b[1;33m,\u001b[0m \u001b[1;33m**\u001b[0m\u001b[0mkwargs\u001b[0m\u001b[1;33m)\u001b[0m\u001b[1;33m\u001b[0m\u001b[1;33m\u001b[0m\u001b[0m\n\u001b[0m\u001b[0;32m   1111\u001b[0m         \u001b[1;31m# Do not call functions when jit is used\u001b[0m\u001b[1;33m\u001b[0m\u001b[1;33m\u001b[0m\u001b[1;33m\u001b[0m\u001b[0m\n\u001b[0;32m   1112\u001b[0m         \u001b[0mfull_backward_hooks\u001b[0m\u001b[1;33m,\u001b[0m \u001b[0mnon_full_backward_hooks\u001b[0m \u001b[1;33m=\u001b[0m \u001b[1;33m[\u001b[0m\u001b[1;33m]\u001b[0m\u001b[1;33m,\u001b[0m \u001b[1;33m[\u001b[0m\u001b[1;33m]\u001b[0m\u001b[1;33m\u001b[0m\u001b[1;33m\u001b[0m\u001b[0m\n",
      "\u001b[1;32m~\\anaconda3\\lib\\site-packages\\torch\\nn\\modules\\loss.py\u001b[0m in \u001b[0;36mforward\u001b[1;34m(self, input, target)\u001b[0m\n\u001b[0;32m    610\u001b[0m \u001b[1;33m\u001b[0m\u001b[0m\n\u001b[0;32m    611\u001b[0m     \u001b[1;32mdef\u001b[0m \u001b[0mforward\u001b[0m\u001b[1;33m(\u001b[0m\u001b[0mself\u001b[0m\u001b[1;33m,\u001b[0m \u001b[0minput\u001b[0m\u001b[1;33m:\u001b[0m \u001b[0mTensor\u001b[0m\u001b[1;33m,\u001b[0m \u001b[0mtarget\u001b[0m\u001b[1;33m:\u001b[0m \u001b[0mTensor\u001b[0m\u001b[1;33m)\u001b[0m \u001b[1;33m->\u001b[0m \u001b[0mTensor\u001b[0m\u001b[1;33m:\u001b[0m\u001b[1;33m\u001b[0m\u001b[1;33m\u001b[0m\u001b[0m\n\u001b[1;32m--> 612\u001b[1;33m         \u001b[1;32mreturn\u001b[0m \u001b[0mF\u001b[0m\u001b[1;33m.\u001b[0m\u001b[0mbinary_cross_entropy\u001b[0m\u001b[1;33m(\u001b[0m\u001b[0minput\u001b[0m\u001b[1;33m,\u001b[0m \u001b[0mtarget\u001b[0m\u001b[1;33m,\u001b[0m \u001b[0mweight\u001b[0m\u001b[1;33m=\u001b[0m\u001b[0mself\u001b[0m\u001b[1;33m.\u001b[0m\u001b[0mweight\u001b[0m\u001b[1;33m,\u001b[0m \u001b[0mreduction\u001b[0m\u001b[1;33m=\u001b[0m\u001b[0mself\u001b[0m\u001b[1;33m.\u001b[0m\u001b[0mreduction\u001b[0m\u001b[1;33m)\u001b[0m\u001b[1;33m\u001b[0m\u001b[1;33m\u001b[0m\u001b[0m\n\u001b[0m\u001b[0;32m    613\u001b[0m \u001b[1;33m\u001b[0m\u001b[0m\n\u001b[0;32m    614\u001b[0m \u001b[1;33m\u001b[0m\u001b[0m\n",
      "\u001b[1;32m~\\anaconda3\\lib\\site-packages\\torch\\nn\\functional.py\u001b[0m in \u001b[0;36mbinary_cross_entropy\u001b[1;34m(input, target, weight, size_average, reduce, reduction)\u001b[0m\n\u001b[0;32m   3056\u001b[0m         raise ValueError(\n\u001b[0;32m   3057\u001b[0m             \u001b[1;34m\"Using a target size ({}) that is different to the input size ({}) is deprecated. \"\u001b[0m\u001b[1;33m\u001b[0m\u001b[1;33m\u001b[0m\u001b[0m\n\u001b[1;32m-> 3058\u001b[1;33m             \u001b[1;34m\"Please ensure they have the same size.\"\u001b[0m\u001b[1;33m.\u001b[0m\u001b[0mformat\u001b[0m\u001b[1;33m(\u001b[0m\u001b[0mtarget\u001b[0m\u001b[1;33m.\u001b[0m\u001b[0msize\u001b[0m\u001b[1;33m(\u001b[0m\u001b[1;33m)\u001b[0m\u001b[1;33m,\u001b[0m \u001b[0minput\u001b[0m\u001b[1;33m.\u001b[0m\u001b[0msize\u001b[0m\u001b[1;33m(\u001b[0m\u001b[1;33m)\u001b[0m\u001b[1;33m)\u001b[0m\u001b[1;33m\u001b[0m\u001b[1;33m\u001b[0m\u001b[0m\n\u001b[0m\u001b[0;32m   3059\u001b[0m         )\n\u001b[0;32m   3060\u001b[0m \u001b[1;33m\u001b[0m\u001b[0m\n",
      "\u001b[1;31mValueError\u001b[0m: Using a target size (torch.Size([190512])) that is different to the input size (torch.Size([190512, 1])) is deprecated. Please ensure they have the same size."
     ]
    }
   ],
   "source": [
    "for i in range(epoch): \n",
    "    output = model(X_train)\n",
    "    print(output)\n",
    "    loss = criterion(output, y_train)\n",
    "    \n",
    "    #Setting the gradients to zero\n",
    "    optimizer.zero_grad()\n",
    "    #running the back propagation \n",
    "    loss.backward()\n",
    "    #Updating the weights \n",
    "    optimizer.step()\n",
    "    print(f'Epoch : {i}, loss => {loss}')"
   ]
  },
  {
   "cell_type": "code",
   "execution_count": 35,
   "metadata": {},
   "outputs": [
    {
     "name": "stdout",
     "output_type": "stream",
     "text": [
      "tensor([1, 0, 1,  ..., 1, 1, 1])\n"
     ]
    }
   ],
   "source": [
    "print(y_train)"
   ]
  },
  {
   "cell_type": "code",
   "execution_count": null,
   "metadata": {},
   "outputs": [],
   "source": []
  }
 ],
 "metadata": {
  "kernelspec": {
   "display_name": "Python 3",
   "language": "python",
   "name": "python3"
  },
  "language_info": {
   "codemirror_mode": {
    "name": "ipython",
    "version": 3
   },
   "file_extension": ".py",
   "mimetype": "text/x-python",
   "name": "python",
   "nbconvert_exporter": "python",
   "pygments_lexer": "ipython3",
   "version": "3.7.6"
  }
 },
 "nbformat": 4,
 "nbformat_minor": 4
}
